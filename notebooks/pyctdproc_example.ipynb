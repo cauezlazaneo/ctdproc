{
 "cells": [
  {
   "cell_type": "markdown",
   "metadata": {
    "janus": {
     "all_versions_showing": false,
     "cell_hidden": false,
     "current_version": 0,
     "id": "b1565f77ab1198",
     "named_versions": [],
     "output_hidden": false,
     "show_versions": false,
     "source_hidden": false,
     "versions": []
    }
   },
   "source": [
    "# PYCTDPROC: Example"
   ]
  },
  {
   "cell_type": "code",
   "execution_count": 1,
   "metadata": {
    "janus": {
     "all_versions_showing": false,
     "cell_hidden": false,
     "current_version": 0,
     "id": "98d13f081ddfe",
     "named_versions": [],
     "output_hidden": false,
     "show_versions": false,
     "source_hidden": false,
     "versions": []
    }
   },
   "outputs": [],
   "source": [
    "import matplotlib.pyplot as plt\n",
    "import numpy as np\n",
    "import xarray as xr\n",
    "import pandas as pd\n",
    "from pathlib import Path\n",
    "import pyctdproc as ctd\n",
    "\n",
    "plt.ion()\n",
    "\n",
    "%config InlineBackend.figure_format = 'retina'\n",
    "\n",
    "xr.set_options(display_style=\"text\");"
   ]
  },
  {
   "cell_type": "code",
   "execution_count": 2,
   "metadata": {
    "janus": {
     "all_versions_showing": false,
     "cell_hidden": false,
     "current_version": 0,
     "id": "7599263cd229f",
     "named_versions": [],
     "output_hidden": false,
     "show_versions": false,
     "source_hidden": false,
     "versions": []
    }
   },
   "outputs": [],
   "source": [
    "pd.options.display.html.table_schema = True"
   ]
  },
  {
   "cell_type": "markdown",
   "metadata": {
    "janus": {
     "all_versions_showing": false,
     "cell_hidden": false,
     "current_version": 0,
     "id": "43283794c2da98",
     "named_versions": [],
     "output_hidden": false,
     "show_versions": false,
     "source_hidden": false,
     "versions": []
    }
   },
   "source": [
    "Path to example CTD file in .hex format. The corresponding xmlcon file needs to be in the same directory."
   ]
  },
  {
   "cell_type": "code",
   "execution_count": 3,
   "metadata": {
    "janus": {
     "all_versions_showing": false,
     "cell_hidden": false,
     "current_version": 0,
     "id": "dbdfa94e9027",
     "named_versions": [],
     "output_hidden": false,
     "show_versions": false,
     "source_hidden": false,
     "versions": []
    }
   },
   "outputs": [],
   "source": [
    "hexfile = Path('../pyctdproc/tests/data/BLT_Test_001.hex')"
   ]
  },
  {
   "cell_type": "markdown",
   "metadata": {
    "janus": {
     "all_versions_showing": false,
     "cell_hidden": false,
     "current_version": 0,
     "id": "306c876eff57d8",
     "named_versions": [],
     "output_hidden": false,
     "show_versions": false,
     "source_hidden": false,
     "versions": []
    }
   },
   "source": [
    "Convert hex file"
   ]
  },
  {
   "cell_type": "code",
   "execution_count": 4,
   "metadata": {
    "janus": {
     "all_versions_showing": false,
     "cell_hidden": false,
     "current_version": 0,
     "id": "e31c02e5dd152",
     "named_versions": [],
     "output_hidden": false,
     "show_versions": false,
     "source_hidden": false,
     "versions": []
    }
   },
   "outputs": [],
   "source": [
    "c = ctd.io.CTD(hexfile)"
   ]
  },
  {
   "cell_type": "markdown",
   "metadata": {
    "janus": {
     "all_versions_showing": false,
     "cell_hidden": false,
     "current_version": 0,
     "id": "917c102e9ec61",
     "named_versions": [],
     "output_hidden": false,
     "show_versions": false,
     "source_hidden": false,
     "versions": []
    }
   },
   "source": [
    "Display parameters as read from xmlcon file. The parameters come in a `pandas.DataFrame`."
   ]
  },
  {
   "cell_type": "code",
   "execution_count": 5,
   "metadata": {
    "janus": {
     "all_versions_showing": false,
     "cell_hidden": false,
     "current_version": 0,
     "id": "4538481c9675",
     "named_versions": [],
     "output_hidden": false,
     "show_versions": false,
     "source_hidden": false,
     "versions": []
    }
   },
   "outputs": [
    {
     "data": {
      "application/vnd.dataresource+json": {
       "data": [
        {
         "@SensorID": "55",
         "@index": "0",
         "cal": {
          "@SensorID": "55",
          "A": 0.0043245537,
          "B": 0.000642422,
          "C": 2.35174e-05,
          "CalibrationDate": "15-Feb-2019",
          "D": 2.2938e-06,
          "F0": 1000,
          "F0_Old": 1000,
          "G": 0.0043243663,
          "H": 0.000642214,
          "I": 2.3485e-05,
          "J": 2.2922e-06,
          "Offset": 0,
          "SerialNumber": "2322",
          "Slope": 1,
          "UseG_J": "1"
         },
         "index": "TemperatureSensor1"
        },
        {
         "@SensorID": "3",
         "@index": "1",
         "cal": {
          "@SensorID": "3",
          "CalibrationDate": "01-Mar-19",
          "CellConst": 2000,
          "Coefficients": [
           {
            "@equation": 0,
            "A": 0,
            "B": 0,
            "C": 0,
            "CPcor": -9.57e-08,
            "D": 0,
            "M": 0
           },
           {
            "@equation": 1,
            "CPcor": -9.57e-08,
            "CTcor": 3.25e-06,
            "G": -10.4778621,
            "H": 1.58720754,
            "I": 0.0001266195,
            "J": 9.03182e-05,
            "WBOTC": 0
           }
          ],
          "ConductivityType": 0,
          "Offset": 0,
          "SerialNumber": "2569",
          "SeriesR": 0,
          "Slope": 1,
          "UseG_J": "1"
         },
         "index": "ConductivitySensor1"
        },
        {
         "@SensorID": "45",
         "@index": "2",
         "cal": {
          "@SensorID": "45",
          "AD590B": -9.10996,
          "AD590M": 0.012798,
          "C1": -44315.62,
          "C2": -0.2198797,
          "C3": 0.01208641,
          "CalibrationDate": "03-DEC-2018",
          "D1": 0.0378869,
          "D2": 0,
          "Offset": 0,
          "SerialNumber": "1316",
          "Slope": 1,
          "T1": 30.01392,
          "T2": -0.0003568328,
          "T3": 3.8724e-06,
          "T4": 7.3e-09,
          "T5": 0
         },
         "index": "PressureSensor"
        },
        {
         "@SensorID": "55",
         "@index": "3",
         "cal": {
          "@SensorID": "55",
          "A": 0.0043696942,
          "B": 0.0006396937,
          "C": 2.31067e-05,
          "CalibrationDate": "19-Feb-2019",
          "D": 2.2505e-06,
          "F0": 1000,
          "F0_Old": 1000,
          "G": 0.0043694921,
          "H": 0.0006394832,
          "I": 2.30747e-05,
          "J": 2.2491e-06,
          "Offset": 0,
          "SerialNumber": "6142",
          "Slope": 1,
          "UseG_J": "1"
         },
         "index": "TemperatureSensor2"
        },
        {
         "@SensorID": "3",
         "@index": "4",
         "cal": {
          "@SensorID": "3",
          "CalibrationDate": "05-Dec-18",
          "CellConst": 2000,
          "Coefficients": [
           {
            "@equation": 0,
            "A": 0,
            "B": 0,
            "C": 0,
            "CPcor": -9.57e-08,
            "D": 0,
            "M": 0
           },
           {
            "@equation": 1,
            "CPcor": -9.57e-08,
            "CTcor": 3.25e-06,
            "G": -10.1377156,
            "H": 1.36019014,
            "I": -0.0001040857,
            "J": 7.12722e-05,
            "WBOTC": 0
           }
          ],
          "ConductivityType": 0,
          "Offset": 0,
          "SerialNumber": "3207",
          "SeriesR": 0,
          "Slope": 1,
          "UseG_J": "1"
         },
         "index": "ConductivitySensor2"
        },
        {
         "@SensorID": "11",
         "@index": "5",
         "cal": {
          "@SensorID": "11",
          "CalibrationDate": "N/A",
          "GainSetting": 0,
          "Offset": 0,
          "SerialNumber": "SCF2956"
         },
         "index": "FluoroSeapointSensor"
        },
        {
         "@SensorID": "42",
         "@index": "6",
         "cal": {
          "@SensorID": "42",
          "B": 0,
          "CalibrationConstant": 1661129568.11,
          "CalibrationDate": "3/01/18",
          "ConversionUnits": 1,
          "M": 1,
          "Multiplier": 1,
          "Offset": -0.868,
          "SerialNumber": "4542"
         },
         "index": "PAR_BiosphericalLicorChelseaSensor"
        },
        {
         "@SensorID": "71",
         "@index": "7",
         "cal": {
          "@SensorID": "71",
          "B": -0.1602,
          "CalibrationDate": "6/18/19",
          "M": 21.9455,
          "PathLength": 0,
          "SerialNumber": "CST-1874DR"
         },
         "index": "WET_LabsCStar"
        },
        {
         "@SensorID": "0",
         "@index": "9",
         "cal": {
          "@SensorID": "0",
          "CalibrationDate": "N/A",
          "Offset": 0,
          "ScaleFactor": 15,
          "SerialNumber": "N/A"
         },
         "index": "AltimeterSensor"
        },
        {
         "@SensorID": "38",
         "@index": "11",
         "cal": {
          "@SensorID": "38",
          "CalibrationCoefficients": [
           {
            "@equation": 0,
            "Boc": 0,
            "Pcor": 0,
            "Soc": 0,
            "Tau": 0,
            "Tcor": 0,
            "offset": 0
           },
           {
            "@equation": 1,
            "A": -0.0038779,
            "B": 0.00020313,
            "C": -3.2933e-06,
            "D0": 2.5826,
            "D1": 0.000192634,
            "D2": -0.0464803,
            "E": 0.036,
            "H1": -0.033,
            "H2": 5000,
            "H3": 1450,
            "Soc": 0.44906,
            "Tau20": 1.06,
            "offset": -0.5039
           }
          ],
          "CalibrationDate": "25-Aug-18",
          "SerialNumber": "0255",
          "Use2007Equation": 1
         },
         "index": "OxygenSensor"
        },
        {
         "@SensorID": "51",
         "@index": "14",
         "cal": {
          "@SensorID": "51",
          "CalibrationDate": "16-Mar-2017",
          "ConversionFactor": 1726.3,
          "RatioMultiplier": 1,
          "SerialNumber": "6368"
         },
         "index": "SPAR_Sensor"
        }
       ],
       "schema": {
        "fields": [
         {
          "name": "index",
          "type": "string"
         },
         {
          "name": "@index",
          "type": "string"
         },
         {
          "name": "@SensorID",
          "type": "string"
         },
         {
          "name": "cal",
          "type": "string"
         }
        ],
        "pandas_version": "0.20.0",
        "primaryKey": [
         "index"
        ]
       }
      },
      "text/html": [
       "<div>\n",
       "<style scoped>\n",
       "    .dataframe tbody tr th:only-of-type {\n",
       "        vertical-align: middle;\n",
       "    }\n",
       "\n",
       "    .dataframe tbody tr th {\n",
       "        vertical-align: top;\n",
       "    }\n",
       "\n",
       "    .dataframe thead th {\n",
       "        text-align: right;\n",
       "    }\n",
       "</style>\n",
       "<table border=\"1\" class=\"dataframe\">\n",
       "  <thead>\n",
       "    <tr style=\"text-align: right;\">\n",
       "      <th></th>\n",
       "      <th>@index</th>\n",
       "      <th>@SensorID</th>\n",
       "      <th>cal</th>\n",
       "    </tr>\n",
       "  </thead>\n",
       "  <tbody>\n",
       "    <tr>\n",
       "      <th>TemperatureSensor1</th>\n",
       "      <td>0</td>\n",
       "      <td>55</td>\n",
       "      <td>{'@SensorID': '55', 'SerialNumber': '2322', 'C...</td>\n",
       "    </tr>\n",
       "    <tr>\n",
       "      <th>ConductivitySensor1</th>\n",
       "      <td>1</td>\n",
       "      <td>3</td>\n",
       "      <td>{'@SensorID': '3', 'SerialNumber': '2569', 'Ca...</td>\n",
       "    </tr>\n",
       "    <tr>\n",
       "      <th>PressureSensor</th>\n",
       "      <td>2</td>\n",
       "      <td>45</td>\n",
       "      <td>{'@SensorID': '45', 'SerialNumber': '1316', 'C...</td>\n",
       "    </tr>\n",
       "    <tr>\n",
       "      <th>TemperatureSensor2</th>\n",
       "      <td>3</td>\n",
       "      <td>55</td>\n",
       "      <td>{'@SensorID': '55', 'SerialNumber': '6142', 'C...</td>\n",
       "    </tr>\n",
       "    <tr>\n",
       "      <th>ConductivitySensor2</th>\n",
       "      <td>4</td>\n",
       "      <td>3</td>\n",
       "      <td>{'@SensorID': '3', 'SerialNumber': '3207', 'Ca...</td>\n",
       "    </tr>\n",
       "    <tr>\n",
       "      <th>FluoroSeapointSensor</th>\n",
       "      <td>5</td>\n",
       "      <td>11</td>\n",
       "      <td>{'@SensorID': '11', 'SerialNumber': 'SCF2956',...</td>\n",
       "    </tr>\n",
       "    <tr>\n",
       "      <th>PAR_BiosphericalLicorChelseaSensor</th>\n",
       "      <td>6</td>\n",
       "      <td>42</td>\n",
       "      <td>{'@SensorID': '42', 'SerialNumber': '4542', 'C...</td>\n",
       "    </tr>\n",
       "    <tr>\n",
       "      <th>WET_LabsCStar</th>\n",
       "      <td>7</td>\n",
       "      <td>71</td>\n",
       "      <td>{'@SensorID': '71', 'SerialNumber': 'CST-1874D...</td>\n",
       "    </tr>\n",
       "    <tr>\n",
       "      <th>AltimeterSensor</th>\n",
       "      <td>9</td>\n",
       "      <td>0</td>\n",
       "      <td>{'@SensorID': '0', 'SerialNumber': 'N/A', 'Cal...</td>\n",
       "    </tr>\n",
       "    <tr>\n",
       "      <th>OxygenSensor</th>\n",
       "      <td>11</td>\n",
       "      <td>38</td>\n",
       "      <td>{'@SensorID': '38', 'SerialNumber': '0255', 'C...</td>\n",
       "    </tr>\n",
       "    <tr>\n",
       "      <th>SPAR_Sensor</th>\n",
       "      <td>14</td>\n",
       "      <td>51</td>\n",
       "      <td>{'@SensorID': '51', 'SerialNumber': '6368', 'C...</td>\n",
       "    </tr>\n",
       "  </tbody>\n",
       "</table>\n",
       "</div>"
      ],
      "text/plain": [
       "                                   @index @SensorID  \\\n",
       "TemperatureSensor1                      0        55   \n",
       "ConductivitySensor1                     1         3   \n",
       "PressureSensor                          2        45   \n",
       "TemperatureSensor2                      3        55   \n",
       "ConductivitySensor2                     4         3   \n",
       "FluoroSeapointSensor                    5        11   \n",
       "PAR_BiosphericalLicorChelseaSensor      6        42   \n",
       "WET_LabsCStar                           7        71   \n",
       "AltimeterSensor                         9         0   \n",
       "OxygenSensor                           11        38   \n",
       "SPAR_Sensor                            14        51   \n",
       "\n",
       "                                                                                  cal  \n",
       "TemperatureSensor1                  {'@SensorID': '55', 'SerialNumber': '2322', 'C...  \n",
       "ConductivitySensor1                 {'@SensorID': '3', 'SerialNumber': '2569', 'Ca...  \n",
       "PressureSensor                      {'@SensorID': '45', 'SerialNumber': '1316', 'C...  \n",
       "TemperatureSensor2                  {'@SensorID': '55', 'SerialNumber': '6142', 'C...  \n",
       "ConductivitySensor2                 {'@SensorID': '3', 'SerialNumber': '3207', 'Ca...  \n",
       "FluoroSeapointSensor                {'@SensorID': '11', 'SerialNumber': 'SCF2956',...  \n",
       "PAR_BiosphericalLicorChelseaSensor  {'@SensorID': '42', 'SerialNumber': '4542', 'C...  \n",
       "WET_LabsCStar                       {'@SensorID': '71', 'SerialNumber': 'CST-1874D...  \n",
       "AltimeterSensor                     {'@SensorID': '0', 'SerialNumber': 'N/A', 'Cal...  \n",
       "OxygenSensor                        {'@SensorID': '38', 'SerialNumber': '0255', 'C...  \n",
       "SPAR_Sensor                         {'@SensorID': '51', 'SerialNumber': '6368', 'C...  "
      ]
     },
     "execution_count": 5,
     "metadata": {},
     "output_type": "execute_result"
    }
   ],
   "source": [
    "c.cfgp.transpose()"
   ]
  },
  {
   "cell_type": "markdown",
   "metadata": {
    "janus": {
     "all_versions_showing": false,
     "cell_hidden": false,
     "current_version": 0,
     "id": "f37def67f45a8",
     "named_versions": [],
     "output_hidden": false,
     "show_versions": false,
     "source_hidden": false,
     "versions": []
    }
   },
   "source": [
    "Convert the data to an `xarray.Dataset`."
   ]
  },
  {
   "cell_type": "code",
   "execution_count": 6,
   "metadata": {
    "janus": {
     "all_versions_showing": false,
     "cell_hidden": false,
     "current_version": 0,
     "id": "6b63ee24802b78",
     "named_versions": [],
     "output_hidden": false,
     "show_versions": false,
     "source_hidden": false,
     "versions": []
    }
   },
   "outputs": [],
   "source": [
    "cx = c.to_xarray()"
   ]
  },
  {
   "cell_type": "markdown",
   "metadata": {
    "janus": {
     "all_versions_showing": false,
     "cell_hidden": false,
     "current_version": 0,
     "id": "b82281ab3b37",
     "named_versions": [],
     "output_hidden": false,
     "show_versions": false,
     "source_hidden": false,
     "versions": []
    }
   },
   "source": [
    "Display the Dataset."
   ]
  },
  {
   "cell_type": "code",
   "execution_count": 7,
   "metadata": {
    "janus": {
     "all_versions_showing": false,
     "cell_hidden": false,
     "current_version": 0,
     "id": "53d991f6ea3a28",
     "named_versions": [],
     "output_hidden": false,
     "show_versions": false,
     "source_hidden": false,
     "versions": []
    }
   },
   "outputs": [
    {
     "data": {
      "text/html": [
       "<pre>&lt;xarray.Dataset&gt;\n",
       "Dimensions:   (time: 120643)\n",
       "Coordinates:\n",
       "  * time      (time) datetime64[ns] 2019-11-06T18:20:31.999996 ... 2019-11-06T19:44:18.000003\n",
       "Data variables:\n",
       "    lon       (time) float64 -117.5 -117.5 -117.5 ... -117.5 -117.5 -117.5\n",
       "    lat       (time) float64 32.62 32.62 32.62 32.62 ... 32.62 32.62 32.62 32.62\n",
       "    p         (time) float64 12.26 12.29 12.32 12.26 ... 11.74 11.71 11.69 11.69\n",
       "    t1        (time) float64 17.76 17.79 17.83 17.88 ... 18.49 18.48 18.47 18.46\n",
       "    t2        (time) float64 17.96 17.95 17.95 17.94 ... 18.5 18.51 18.52 18.52\n",
       "    c1        (time) float64 4.406 4.41 4.415 4.421 ... 4.478 4.477 4.475 4.475\n",
       "    c2        (time) float64 4.421 4.422 4.421 4.42 ... 4.481 4.482 4.482 4.482\n",
       "    alt       (time) float64 74.73 74.73 74.73 74.73 ... 74.58 74.58 74.58 74.58\n",
       "    fl        (time) float64 0.1062 0.1074 0.1074 ... 0.0293 0.0293 0.03053\n",
       "    trans     (time) float64 92.04 92.04 92.04 92.04 ... 96.79 96.79 96.79 96.79\n",
       "    par       (time) float64 1.175e+03 1.178e+03 ... 4.531e+03 4.531e+03\n",
       "    modcount  (time) int64 63 64 65 66 67 68 69 ... 123 124 125 126 127 128 129</pre>"
      ],
      "text/plain": [
       "<xarray.Dataset>\n",
       "Dimensions:   (time: 120643)\n",
       "Coordinates:\n",
       "  * time      (time) datetime64[ns] 2019-11-06T18:20:31.999996 ... 2019-11-06T19:44:18.000003\n",
       "Data variables:\n",
       "    lon       (time) float64 -117.5 -117.5 -117.5 ... -117.5 -117.5 -117.5\n",
       "    lat       (time) float64 32.62 32.62 32.62 32.62 ... 32.62 32.62 32.62 32.62\n",
       "    p         (time) float64 12.26 12.29 12.32 12.26 ... 11.74 11.71 11.69 11.69\n",
       "    t1        (time) float64 17.76 17.79 17.83 17.88 ... 18.49 18.48 18.47 18.46\n",
       "    t2        (time) float64 17.96 17.95 17.95 17.94 ... 18.5 18.51 18.52 18.52\n",
       "    c1        (time) float64 4.406 4.41 4.415 4.421 ... 4.478 4.477 4.475 4.475\n",
       "    c2        (time) float64 4.421 4.422 4.421 4.42 ... 4.481 4.482 4.482 4.482\n",
       "    alt       (time) float64 74.73 74.73 74.73 74.73 ... 74.58 74.58 74.58 74.58\n",
       "    fl        (time) float64 0.1062 0.1074 0.1074 ... 0.0293 0.0293 0.03053\n",
       "    trans     (time) float64 92.04 92.04 92.04 92.04 ... 96.79 96.79 96.79 96.79\n",
       "    par       (time) float64 1.175e+03 1.178e+03 ... 4.531e+03 4.531e+03\n",
       "    modcount  (time) int64 63 64 65 66 67 68 69 ... 123 124 125 126 127 128 129"
      ]
     },
     "execution_count": 7,
     "metadata": {},
     "output_type": "execute_result"
    }
   ],
   "source": [
    "cx"
   ]
  },
  {
   "cell_type": "markdown",
   "metadata": {
    "janus": {
     "all_versions_showing": false,
     "cell_hidden": false,
     "current_version": 0,
     "id": "34c9dcdf413f98",
     "named_versions": [],
     "output_hidden": false,
     "show_versions": false,
     "source_hidden": false,
     "versions": []
    }
   },
   "source": [
    "Save time series to netcdf."
   ]
  },
  {
   "cell_type": "code",
   "execution_count": 8,
   "metadata": {
    "janus": {
     "all_versions_showing": false,
     "cell_hidden": false,
     "current_version": 0,
     "id": "a05a0e8ed4a358",
     "named_versions": [],
     "output_hidden": false,
     "show_versions": false,
     "source_hidden": false,
     "versions": []
    }
   },
   "outputs": [],
   "source": [
    "cx.to_netcdf('test.nc')"
   ]
  },
  {
   "cell_type": "markdown",
   "metadata": {
    "janus": {
     "all_versions_showing": false,
     "cell_hidden": false,
     "current_version": 0,
     "id": "aed5ef384b84d",
     "named_versions": [],
     "output_hidden": false,
     "show_versions": false,
     "source_hidden": false,
     "versions": []
    }
   },
   "source": [
    "Save time series as Matlab file."
   ]
  },
  {
   "cell_type": "code",
   "execution_count": 9,
   "metadata": {
    "janus": {
     "all_versions_showing": false,
     "cell_hidden": false,
     "current_version": 0,
     "id": "3550dc032bb818",
     "named_versions": [],
     "output_hidden": false,
     "show_versions": false,
     "source_hidden": false,
     "versions": []
    }
   },
   "outputs": [],
   "source": [
    "c.to_mat('./test.mat')"
   ]
  },
  {
   "cell_type": "markdown",
   "metadata": {
    "janus": {
     "all_versions_showing": false,
     "cell_hidden": false,
     "current_version": 0,
     "id": "a0c17dc15a7ca8",
     "named_versions": [],
     "output_hidden": false,
     "show_versions": false,
     "source_hidden": false,
     "versions": []
    }
   },
   "source": [
    "Plot time series from temperature sensor 1"
   ]
  },
  {
   "cell_type": "code",
   "execution_count": 10,
   "metadata": {
    "janus": {
     "all_versions_showing": false,
     "cell_hidden": false,
     "current_version": 0,
     "id": "76cdea3e242bf8",
     "named_versions": [],
     "output_hidden": false,
     "show_versions": false,
     "source_hidden": false,
     "versions": []
    }
   },
   "outputs": [
    {
     "data": {
      "image/png": "[encoded data removed]",
      "text/plain": [
       "<Figure size 540x216 with 1 Axes>"
      ]
     },
     "metadata": {
      "image/png": {
       "height": 244,
       "width": 475
      },
      "needs_background": "light"
     },
     "output_type": "display_data"
    }
   ],
   "source": [
    "fig, ax = plt.subplots(nrows=1, ncols=1, figsize=(7.5, 3))\n",
    "cx.t1.plot(ax=ax)\n",
    "ax.set(\n",
    "    title=\"{}, SN {}, last cal {}\".format(\n",
    "        cx.t1.attrs[\"long_name\"], cx.t1.attrs[\"SN\"], cx.t1.attrs[\"CalDate\"]\n",
    "    )\n",
    ");"
   ]
  },
  {
   "cell_type": "markdown",
   "metadata": {
    "janus": {
     "all_versions_showing": false,
     "cell_hidden": false,
     "current_version": 0,
     "id": "adf8a30d0fd338",
     "named_versions": [],
     "output_hidden": false,
     "show_versions": false,
     "source_hidden": false,
     "versions": []
    }
   },
   "source": [
    "Plot more time series. Adjust automatic axis labels to fit everything."
   ]
  },
  {
   "cell_type": "code",
   "execution_count": 11,
   "metadata": {
    "janus": {
     "all_versions_showing": false,
     "cell_hidden": false,
     "current_version": 0,
     "id": "ed5a5f389a0af8",
     "named_versions": [],
     "output_hidden": false,
     "show_versions": false,
     "source_hidden": false,
     "versions": []
    }
   },
   "outputs": [
    {
     "data": {
      "image/png": "[encoded data removed]",
      "text/plain": [
       "<Figure size 540x360 with 5 Axes>"
      ]
     },
     "metadata": {
      "image/png": {
       "height": 368,
       "width": 548
      },
      "needs_background": "light"
     },
     "output_type": "display_data"
    }
   ],
   "source": [
    "plot_vars = [\"p\", \"alt\", \"t1\", \"c1\", \"fl\"]\n",
    "fig, ax = plt.subplots(\n",
    "    nrows=len(plot_vars),\n",
    "    ncols=1,\n",
    "    figsize=(7.5, 5),\n",
    "    constrained_layout=True,\n",
    "    sharex=True,\n",
    ")\n",
    "for axi, vi in zip(ax, plot_vars):\n",
    "\n",
    "    cx[vi].plot(ax=axi)\n",
    "    axi.set(ylabel=\"{:s} [{:s}]\".format(vi, cx[vi].attrs[\"units\"]), xlabel=\"\")"
   ]
  },
  {
   "cell_type": "markdown",
   "metadata": {
    "janus": {
     "all_versions_showing": false,
     "cell_hidden": false,
     "current_version": 0,
     "id": "2d5a5c8936d868",
     "named_versions": [],
     "output_hidden": false,
     "show_versions": false,
     "source_hidden": false,
     "versions": []
    }
   },
   "source": [
    "Plot location data."
   ]
  },
  {
   "cell_type": "code",
   "execution_count": 12,
   "metadata": {
    "janus": {
     "all_versions_showing": false,
     "cell_hidden": false,
     "current_version": 0,
     "id": "df1e381013ce88",
     "named_versions": [],
     "output_hidden": false,
     "show_versions": false,
     "source_hidden": false,
     "versions": []
    }
   },
   "outputs": [
    {
     "data": {
      "image/png": "[encoded data removed]",
      "text/plain": [
       "<Figure size 360x360 with 1 Axes>"
      ]
     },
     "metadata": {
      "image/png": {
       "height": 302,
       "width": 335
      },
      "needs_background": "light"
     },
     "output_type": "display_data"
    }
   ],
   "source": [
    "cxc = cx.coarsen(time=1000, boundary='trim').mean()\n",
    "fig, ax = plt.subplots(nrows=1, ncols=1, figsize=(5, 5))\n",
    "ax.plot(cxc.lon, cxc.lat, marker='.', linestyle='');"
   ]
  },
  {
   "cell_type": "markdown",
   "metadata": {
    "janus": {
     "all_versions_showing": false,
     "cell_hidden": false,
     "current_version": 0,
     "id": "5fa2ee989f33",
     "named_versions": [],
     "output_hidden": false,
     "show_versions": false,
     "source_hidden": false,
     "versions": []
    }
   },
   "source": [
    "Run further processing steps on the time series."
   ]
  },
  {
   "cell_type": "code",
   "execution_count": 13,
   "metadata": {
    "janus": {
     "all_versions_showing": false,
     "cell_hidden": false,
     "current_version": 0,
     "id": "e1b3739de45",
     "named_versions": [],
     "output_hidden": false,
     "show_versions": false,
     "source_hidden": false,
     "versions": []
    }
   },
   "outputs": [
    {
     "name": "stdout",
     "output_type": "stream",
     "text": [
      "1: tau = 0.0444s, lag = -0.0008s\n",
      "2: tau = 0.0726s, lag = -0.0083s\n",
      "1: tau = 0.0506s, lag = -0.0052s\n",
      "2: tau = 0.0748s, lag = -0.0078s\n",
      "interpbadsegments: bad at istart - no interpolation at start\n",
      "interpbadsegments: bad at istart - no interpolation at start\n",
      "interpbadsegments: bad at istart - no interpolation at start\n",
      "interpbadsegments: bad at istart - no interpolation at start\n",
      "interpbadsegments: bad at istart - no interpolation at start\n",
      "interpbadsegments: bad at istart - no interpolation at start\n",
      "interpbadsegments: bad at istart - no interpolation at start\n",
      "interpbadsegments: bad at istart - no interpolation at start\n",
      "interpbadsegments: bad at istart - no interpolation at start\n",
      "interpbadsegments: bad at istart - no interpolation at start\n"
     ]
    }
   ],
   "source": [
    "datad, datau = ctd.proc.run_all(cx)"
   ]
  },
  {
   "cell_type": "markdown",
   "metadata": {
    "janus": {
     "all_versions_showing": false,
     "cell_hidden": false,
     "current_version": 0,
     "id": "07f0c28049b78",
     "named_versions": [],
     "output_hidden": false,
     "show_versions": false,
     "source_hidden": false,
     "versions": []
    }
   },
   "source": [
    "Depth binning."
   ]
  },
  {
   "cell_type": "code",
   "execution_count": 14,
   "metadata": {
    "janus": {
     "all_versions_showing": false,
     "cell_hidden": false,
     "current_version": 0,
     "id": "ff58325823c278",
     "named_versions": [],
     "output_hidden": false,
     "show_versions": false,
     "source_hidden": false,
     "versions": []
    }
   },
   "outputs": [],
   "source": [
    "dz = 1\n",
    "zmin = 10\n",
    "zmax = np.ceil(datad.depth.max().data)\n",
    "datad = ctd.proc.ctd_bincast(datad, dz, zmin, zmax)\n",
    "datau = ctd.proc.ctd_bincast(datau, dz, zmin, zmax)"
   ]
  },
  {
   "cell_type": "markdown",
   "metadata": {
    "janus": {
     "all_versions_showing": false,
     "cell_hidden": false,
     "current_version": 0,
     "id": "2e467770f93a7",
     "named_versions": [],
     "output_hidden": false,
     "show_versions": false,
     "source_hidden": false,
     "versions": []
    }
   },
   "source": [
    "Final data structure."
   ]
  },
  {
   "cell_type": "code",
   "execution_count": 15,
   "metadata": {
    "janus": {
     "all_versions_showing": false,
     "cell_hidden": false,
     "current_version": 0,
     "id": "2504c361d6b1d8",
     "named_versions": [],
     "output_hidden": false,
     "show_versions": false,
     "source_hidden": false,
     "versions": []
    }
   },
   "outputs": [
    {
     "data": {
      "text/html": [
       "<pre>&lt;xarray.Dataset&gt;\n",
       "Dimensions:  (z: 1166)\n",
       "Coordinates:\n",
       "    depth    (z) float64 10.0 11.0 12.0 13.0 ... 1.173e+03 1.174e+03 1.175e+03\n",
       "    lon      (z) float64 nan nan -117.5 -117.5 ... -117.5 -117.5 -117.5 nan\n",
       "    lat      (z) float64 nan nan 32.62 32.62 32.62 ... 32.62 32.62 32.62 nan\n",
       "    time     (z) datetime64[ns] NaT NaT ... 2019-11-06T19:01:17.222221333 NaT\n",
       "Dimensions without coordinates: z\n",
       "Data variables:\n",
       "    t1       (z) float64 nan nan 17.76 17.73 17.4 ... 3.676 3.674 3.673 nan\n",
       "    t2       (z) float64 nan nan 17.8 17.72 17.42 ... 3.677 3.676 3.675 nan\n",
       "    c1       (z) float64 nan nan 4.402 4.4 4.37 ... 3.237 3.237 3.237 3.237 nan\n",
       "    c2       (z) float64 nan nan 4.406 4.399 4.372 ... 3.238 3.237 3.237 nan\n",
       "    p        (z) float64 nan nan 12.09 13.09 ... 1.185e+03 1.186e+03 nan\n",
       "    trans    (z) float64 nan nan 93.57 93.28 91.19 ... 102.1 102.1 102.1 nan\n",
       "    fl       (z) float64 nan nan 0.08998 0.1039 ... 0.006667 0.0064 0.006548 nan\n",
       "    par      (z) float64 nan nan 1.096e+03 976.4 ... -0.0149 -0.0149 nan\n",
       "    alt      (z) float64 nan nan 74.75 74.76 74.79 ... 7.311 6.692 5.889 nan\n",
       "    SA1      (z) float64 nan nan 33.75 33.75 33.77 ... 34.68 34.68 34.68 nan\n",
       "    SA2      (z) float64 nan nan 33.76 33.76 33.78 ... 34.69 34.69 34.69 nan\n",
       "    s1       (z) float64 nan nan 33.59 33.6 33.61 ... 34.5 34.5 34.5 34.5 nan\n",
       "    s2       (z) float64 nan nan 33.6 33.6 33.62 ... 34.51 34.51 34.51 34.51 nan\n",
       "    CT1      (z) float64 nan nan 17.83 17.76 17.43 ... 3.59 3.59 3.587 3.587 nan\n",
       "    CT2      (z) float64 nan nan 17.86 17.74 17.45 ... 3.591 3.59 3.588 nan\n",
       "    th1      (z) float64 nan nan 17.79 17.69 17.4 ... 3.587 3.585 3.585 nan\n",
       "    th2      (z) float64 nan nan 17.81 17.69 17.42 ... 3.589 3.588 3.586 nan\n",
       "    sg1      (z) float64 nan nan 24.25 24.27 24.36 ... 27.45 27.45 27.45 nan\n",
       "    sg2      (z) float64 nan nan 24.24 24.28 24.36 ... 27.45 27.45 27.45 nan\n",
       "Attributes:\n",
       "    tau1:     0.044394512423089824\n",
       "    tau2:     0.07260763818171392\n",
       "    L1:       -0.0008168643385431199\n",
       "    L2:       -0.008339279456313653</pre>"
      ],
      "text/plain": [
       "<xarray.Dataset>\n",
       "Dimensions:  (z: 1166)\n",
       "Coordinates:\n",
       "    depth    (z) float64 10.0 11.0 12.0 13.0 ... 1.173e+03 1.174e+03 1.175e+03\n",
       "    lon      (z) float64 nan nan -117.5 -117.5 ... -117.5 -117.5 -117.5 nan\n",
       "    lat      (z) float64 nan nan 32.62 32.62 32.62 ... 32.62 32.62 32.62 nan\n",
       "    time     (z) datetime64[ns] NaT NaT ... 2019-11-06T19:01:17.222221333 NaT\n",
       "Dimensions without coordinates: z\n",
       "Data variables:\n",
       "    t1       (z) float64 nan nan 17.76 17.73 17.4 ... 3.676 3.674 3.673 nan\n",
       "    t2       (z) float64 nan nan 17.8 17.72 17.42 ... 3.677 3.676 3.675 nan\n",
       "    c1       (z) float64 nan nan 4.402 4.4 4.37 ... 3.237 3.237 3.237 3.237 nan\n",
       "    c2       (z) float64 nan nan 4.406 4.399 4.372 ... 3.238 3.237 3.237 nan\n",
       "    p        (z) float64 nan nan 12.09 13.09 ... 1.185e+03 1.186e+03 nan\n",
       "    trans    (z) float64 nan nan 93.57 93.28 91.19 ... 102.1 102.1 102.1 nan\n",
       "    fl       (z) float64 nan nan 0.08998 0.1039 ... 0.006667 0.0064 0.006548 nan\n",
       "    par      (z) float64 nan nan 1.096e+03 976.4 ... -0.0149 -0.0149 nan\n",
       "    alt      (z) float64 nan nan 74.75 74.76 74.79 ... 7.311 6.692 5.889 nan\n",
       "    SA1      (z) float64 nan nan 33.75 33.75 33.77 ... 34.68 34.68 34.68 nan\n",
       "    SA2      (z) float64 nan nan 33.76 33.76 33.78 ... 34.69 34.69 34.69 nan\n",
       "    s1       (z) float64 nan nan 33.59 33.6 33.61 ... 34.5 34.5 34.5 34.5 nan\n",
       "    s2       (z) float64 nan nan 33.6 33.6 33.62 ... 34.51 34.51 34.51 34.51 nan\n",
       "    CT1      (z) float64 nan nan 17.83 17.76 17.43 ... 3.59 3.59 3.587 3.587 nan\n",
       "    CT2      (z) float64 nan nan 17.86 17.74 17.45 ... 3.591 3.59 3.588 nan\n",
       "    th1      (z) float64 nan nan 17.79 17.69 17.4 ... 3.587 3.585 3.585 nan\n",
       "    th2      (z) float64 nan nan 17.81 17.69 17.42 ... 3.589 3.588 3.586 nan\n",
       "    sg1      (z) float64 nan nan 24.25 24.27 24.36 ... 27.45 27.45 27.45 nan\n",
       "    sg2      (z) float64 nan nan 24.24 24.28 24.36 ... 27.45 27.45 27.45 nan\n",
       "Attributes:\n",
       "    tau1:     0.044394512423089824\n",
       "    tau2:     0.07260763818171392\n",
       "    L1:       -0.0008168643385431199\n",
       "    L2:       -0.008339279456313653"
      ]
     },
     "execution_count": 15,
     "metadata": {},
     "output_type": "execute_result"
    }
   ],
   "source": [
    "datad"
   ]
  },
  {
   "cell_type": "markdown",
   "metadata": {
    "janus": {
     "all_versions_showing": false,
     "cell_hidden": false,
     "current_version": 0,
     "id": "8883443c185478",
     "named_versions": [],
     "output_hidden": false,
     "show_versions": false,
     "source_hidden": false,
     "versions": []
    }
   },
   "source": [
    "Plot potential density anomaly profile and its difference between the two sensors."
   ]
  },
  {
   "cell_type": "code",
   "execution_count": 16,
   "metadata": {
    "janus": {
     "all_versions_showing": false,
     "cell_hidden": false,
     "current_version": 0,
     "id": "325c59600bf09",
     "named_versions": [],
     "output_hidden": false,
     "show_versions": false,
     "source_hidden": false,
     "versions": []
    }
   },
   "outputs": [
    {
     "data": {
      "image/png": "[encoded data removed]",
      "text/plain": [
       "<Figure size 576x360 with 2 Axes>"
      ]
     },
     "metadata": {
      "image/png": {
       "height": 368,
       "width": 584
      },
      "needs_background": "light"
     },
     "output_type": "display_data"
    }
   ],
   "source": [
    "fig, ax = plt.subplots(\n",
    "    nrows=1, ncols=2, figsize=(8, 5), constrained_layout=True, sharey=True\n",
    ")\n",
    "datad.sg1.plot(y=\"depth\", yincrease=False, ax=ax[0])\n",
    "ax[0].set(title=\"potential density\")\n",
    "(datad.sg1 - datad.sg2).plot(y=\"depth\", yincrease=False, ax=ax[1])\n",
    "ax[1].set(title=\"sensor difference\", ylabel=\"\", xlabel=\"$\\sigma_1-\\sigma_2$ [kg/m$^3$]\")\n",
    "for axi in ax:\n",
    "    axi.grid(True)"
   ]
  }
 ],
 "metadata": {
  "janus": {
   "filepaths": [
    [
     "cd68255b",
     1574963498803,
     1574982338830
    ],
    [
     "7d9fa009",
     1574982531846,
     1575011202499
    ],
    [
     "d37f56a0",
     1577192708258,
     1577192809710
    ],
    [
     "b1d25844",
     1577193054301,
     1586022074770
    ],
    [
     "b1fc1dc5",
     1586442282847,
     1586442479571
    ]
   ],
   "janus_markers": [],
   "track_history": true
  },
  "kernelspec": {
   "display_name": "Python 3",
   "language": "python",
   "name": "python3"
  },
  "language_info": {
   "codemirror_mode": {
    "name": "ipython",
    "version": 3
   },
   "file_extension": ".py",
   "mimetype": "text/x-python",
   "name": "python",
   "nbconvert_exporter": "python",
   "pygments_lexer": "ipython3",
   "version": "3.8.2"
  },
  "toc": {
   "base_numbering": 1,
   "nav_menu": {},
   "number_sections": false,
   "sideBar": true,
   "skip_h1_title": true,
   "title_cell": "Table of Contents",
   "title_sidebar": "Contents",
   "toc_cell": false,
   "toc_position": {},
   "toc_section_display": true,
   "toc_window_display": false
  }
 },
 "nbformat": 4,
 "nbformat_minor": 2
}
